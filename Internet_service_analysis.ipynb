import pandas as pd
df = pd.read_csv('https://query.data.world/s/442hmws6ei6qe3xfgbp6tdemtxxz7p')
df.head()
df.tail()
df.columns
import matplotlib.pyplot as plt
import seaborn as sns
sns.displot(df['tenure'],height=3,aspect=2)  # density plot
sns.displot(df['tenure'],height=3,aspect=2,kind="kde",color="red")  # density Curve
df.groupby("tenure").agg("count")
plt.figure(figsize=(5,2))
sns.boxplot(x=df['tenure'])
plt.figure(figsize=(5,2))
sns.boxplot(x=df['MonthlyCharges'])
plt.figure(figsize=(2,3))
sns.boxplot(y=df['tenure'])
plt.figure(figsize=(5,2))
sns.boxplot(x=df[df['Churn']=='Yes']['MonthlyCharges'])
plt.figure(figsize=(5,2))
sns.boxplot(x=df[df['Churn']=='No']['MonthlyCharges'])
plt.figure(figsize=(10,10))

plt.subplot(2,2,1)
plt.title("Churn MonthlyCharges")
sns.boxplot(x=df[df['Churn']=='Yes']['MonthlyCharges'])
plt.subplot(2,2,2)
plt.title("Non-Churn MonthlyCharges")
sns.boxplot(x=df[df['Churn']=='No']['MonthlyCharges'])
plt.subplot(2,2,3)
plt.title("MonthlyCharges")
sns.boxplot(x=df['MonthlyCharges'])
plt.subplot(2,2,4)
plt.title("Tenure")
sns.boxplot(x=df['tenure'])
from google.colab import drive
drive.mount('/content/drive')
sns.boxplot(x=df['Churn'],y=df['MonthlyCharges'])
sns.boxplot(x=df['Churn'],y=df['tenure'])
x=["a","b","c","d","e"]
y=[1,3,2,10,4]

sns.barplot(x=x,y=y,palette=sns.color_palette())
sns.color_palette()

df.head()
a = df['gender'].value_counts().reset_index()
a
sns.barplot(x=a['gender'],y=a['count'],palette=sns.color_palette())
plt.xlabel("Gender")
plt.ylabel("Count")
b = df.groupby("InternetService").agg({"MonthlyCharges":"mean"}).reset_index()
sns.barplot(x=b['InternetService'],y=b['MonthlyCharges'],palette=sns.color_palette())
sns.countplot(x=df['gender'],palette=sns.color_palette())
sns.countplot(x=df['InternetService'],palette=sns.color_palette())
sns.countplot(x=df['InternetService'],hue=df['gender'],palette=sns.color_palette())
sns.countplot(x=df['InternetService'],hue=df['Churn'],palette=sns.color_palette())
sns.countplot(x=df['InternetService'],hue=df['Contract'],palette=sns.color_palette())
